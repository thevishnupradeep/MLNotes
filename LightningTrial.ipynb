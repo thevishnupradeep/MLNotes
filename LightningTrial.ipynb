{
  "nbformat": 4,
  "nbformat_minor": 0,
  "metadata": {
    "colab": {
      "name": "LightningTrial.ipynb",
      "provenance": [],
      "authorship_tag": "ABX9TyM2/RJlEwKhe1woJGkrueJz",
      "include_colab_link": true
    },
    "kernelspec": {
      "name": "python3",
      "display_name": "Python 3"
    },
    "language_info": {
      "name": "python"
    }
  },
  "cells": [
    {
      "cell_type": "markdown",
      "metadata": {
        "id": "view-in-github",
        "colab_type": "text"
      },
      "source": [
        "<a href=\"https://colab.research.google.com/github/thevishnupradeep/MLNotes/blob/master/LightningTrial.ipynb\" target=\"_parent\"><img src=\"https://colab.research.google.com/assets/colab-badge.svg\" alt=\"Open In Colab\"/></a>"
      ]
    },
    {
      "cell_type": "code",
      "metadata": {
        "colab": {
          "base_uri": "https://localhost:8080/"
        },
        "id": "6SpIQBK9QHdg",
        "outputId": "72dfbce8-e691-4c08-b997-d5f8a5be1354"
      },
      "source": [
        "!pip install pytorch-lightning"
      ],
      "execution_count": 1,
      "outputs": [
        {
          "output_type": "stream",
          "text": [
            "Collecting pytorch-lightning\n",
            "  Downloading pytorch_lightning-1.4.2-py3-none-any.whl (916 kB)\n",
            "\u001b[?25l\r\u001b[K     |▍                               | 10 kB 23.0 MB/s eta 0:00:01\r\u001b[K     |▊                               | 20 kB 29.4 MB/s eta 0:00:01\r\u001b[K     |█                               | 30 kB 19.3 MB/s eta 0:00:01\r\u001b[K     |█▍                              | 40 kB 15.8 MB/s eta 0:00:01\r\u001b[K     |█▉                              | 51 kB 5.7 MB/s eta 0:00:01\r\u001b[K     |██▏                             | 61 kB 6.2 MB/s eta 0:00:01\r\u001b[K     |██▌                             | 71 kB 5.5 MB/s eta 0:00:01\r\u001b[K     |██▉                             | 81 kB 6.1 MB/s eta 0:00:01\r\u001b[K     |███▏                            | 92 kB 6.0 MB/s eta 0:00:01\r\u001b[K     |███▋                            | 102 kB 5.3 MB/s eta 0:00:01\r\u001b[K     |████                            | 112 kB 5.3 MB/s eta 0:00:01\r\u001b[K     |████▎                           | 122 kB 5.3 MB/s eta 0:00:01\r\u001b[K     |████▋                           | 133 kB 5.3 MB/s eta 0:00:01\r\u001b[K     |█████                           | 143 kB 5.3 MB/s eta 0:00:01\r\u001b[K     |█████▍                          | 153 kB 5.3 MB/s eta 0:00:01\r\u001b[K     |█████▊                          | 163 kB 5.3 MB/s eta 0:00:01\r\u001b[K     |██████                          | 174 kB 5.3 MB/s eta 0:00:01\r\u001b[K     |██████▍                         | 184 kB 5.3 MB/s eta 0:00:01\r\u001b[K     |██████▉                         | 194 kB 5.3 MB/s eta 0:00:01\r\u001b[K     |███████▏                        | 204 kB 5.3 MB/s eta 0:00:01\r\u001b[K     |███████▌                        | 215 kB 5.3 MB/s eta 0:00:01\r\u001b[K     |███████▉                        | 225 kB 5.3 MB/s eta 0:00:01\r\u001b[K     |████████▎                       | 235 kB 5.3 MB/s eta 0:00:01\r\u001b[K     |████████▋                       | 245 kB 5.3 MB/s eta 0:00:01\r\u001b[K     |█████████                       | 256 kB 5.3 MB/s eta 0:00:01\r\u001b[K     |█████████▎                      | 266 kB 5.3 MB/s eta 0:00:01\r\u001b[K     |█████████▋                      | 276 kB 5.3 MB/s eta 0:00:01\r\u001b[K     |██████████                      | 286 kB 5.3 MB/s eta 0:00:01\r\u001b[K     |██████████▍                     | 296 kB 5.3 MB/s eta 0:00:01\r\u001b[K     |██████████▊                     | 307 kB 5.3 MB/s eta 0:00:01\r\u001b[K     |███████████                     | 317 kB 5.3 MB/s eta 0:00:01\r\u001b[K     |███████████▍                    | 327 kB 5.3 MB/s eta 0:00:01\r\u001b[K     |███████████▉                    | 337 kB 5.3 MB/s eta 0:00:01\r\u001b[K     |████████████▏                   | 348 kB 5.3 MB/s eta 0:00:01\r\u001b[K     |████████████▌                   | 358 kB 5.3 MB/s eta 0:00:01\r\u001b[K     |████████████▉                   | 368 kB 5.3 MB/s eta 0:00:01\r\u001b[K     |█████████████▎                  | 378 kB 5.3 MB/s eta 0:00:01\r\u001b[K     |█████████████▋                  | 389 kB 5.3 MB/s eta 0:00:01\r\u001b[K     |██████████████                  | 399 kB 5.3 MB/s eta 0:00:01\r\u001b[K     |██████████████▎                 | 409 kB 5.3 MB/s eta 0:00:01\r\u001b[K     |██████████████▋                 | 419 kB 5.3 MB/s eta 0:00:01\r\u001b[K     |███████████████                 | 430 kB 5.3 MB/s eta 0:00:01\r\u001b[K     |███████████████▍                | 440 kB 5.3 MB/s eta 0:00:01\r\u001b[K     |███████████████▊                | 450 kB 5.3 MB/s eta 0:00:01\r\u001b[K     |████████████████                | 460 kB 5.3 MB/s eta 0:00:01\r\u001b[K     |████████████████▌               | 471 kB 5.3 MB/s eta 0:00:01\r\u001b[K     |████████████████▉               | 481 kB 5.3 MB/s eta 0:00:01\r\u001b[K     |█████████████████▏              | 491 kB 5.3 MB/s eta 0:00:01\r\u001b[K     |█████████████████▌              | 501 kB 5.3 MB/s eta 0:00:01\r\u001b[K     |█████████████████▉              | 512 kB 5.3 MB/s eta 0:00:01\r\u001b[K     |██████████████████▎             | 522 kB 5.3 MB/s eta 0:00:01\r\u001b[K     |██████████████████▋             | 532 kB 5.3 MB/s eta 0:00:01\r\u001b[K     |███████████████████             | 542 kB 5.3 MB/s eta 0:00:01\r\u001b[K     |███████████████████▎            | 552 kB 5.3 MB/s eta 0:00:01\r\u001b[K     |███████████████████▋            | 563 kB 5.3 MB/s eta 0:00:01\r\u001b[K     |████████████████████            | 573 kB 5.3 MB/s eta 0:00:01\r\u001b[K     |████████████████████▍           | 583 kB 5.3 MB/s eta 0:00:01\r\u001b[K     |████████████████████▊           | 593 kB 5.3 MB/s eta 0:00:01\r\u001b[K     |█████████████████████           | 604 kB 5.3 MB/s eta 0:00:01\r\u001b[K     |█████████████████████▌          | 614 kB 5.3 MB/s eta 0:00:01\r\u001b[K     |█████████████████████▉          | 624 kB 5.3 MB/s eta 0:00:01\r\u001b[K     |██████████████████████▏         | 634 kB 5.3 MB/s eta 0:00:01\r\u001b[K     |██████████████████████▌         | 645 kB 5.3 MB/s eta 0:00:01\r\u001b[K     |██████████████████████▉         | 655 kB 5.3 MB/s eta 0:00:01\r\u001b[K     |███████████████████████▎        | 665 kB 5.3 MB/s eta 0:00:01\r\u001b[K     |███████████████████████▋        | 675 kB 5.3 MB/s eta 0:00:01\r\u001b[K     |████████████████████████        | 686 kB 5.3 MB/s eta 0:00:01\r\u001b[K     |████████████████████████▎       | 696 kB 5.3 MB/s eta 0:00:01\r\u001b[K     |████████████████████████▊       | 706 kB 5.3 MB/s eta 0:00:01\r\u001b[K     |█████████████████████████       | 716 kB 5.3 MB/s eta 0:00:01\r\u001b[K     |█████████████████████████▍      | 727 kB 5.3 MB/s eta 0:00:01\r\u001b[K     |█████████████████████████▊      | 737 kB 5.3 MB/s eta 0:00:01\r\u001b[K     |██████████████████████████      | 747 kB 5.3 MB/s eta 0:00:01\r\u001b[K     |██████████████████████████▌     | 757 kB 5.3 MB/s eta 0:00:01\r\u001b[K     |██████████████████████████▉     | 768 kB 5.3 MB/s eta 0:00:01\r\u001b[K     |███████████████████████████▏    | 778 kB 5.3 MB/s eta 0:00:01\r\u001b[K     |███████████████████████████▌    | 788 kB 5.3 MB/s eta 0:00:01\r\u001b[K     |███████████████████████████▉    | 798 kB 5.3 MB/s eta 0:00:01\r\u001b[K     |████████████████████████████▎   | 808 kB 5.3 MB/s eta 0:00:01\r\u001b[K     |████████████████████████████▋   | 819 kB 5.3 MB/s eta 0:00:01\r\u001b[K     |█████████████████████████████   | 829 kB 5.3 MB/s eta 0:00:01\r\u001b[K     |█████████████████████████████▎  | 839 kB 5.3 MB/s eta 0:00:01\r\u001b[K     |█████████████████████████████▊  | 849 kB 5.3 MB/s eta 0:00:01\r\u001b[K     |██████████████████████████████  | 860 kB 5.3 MB/s eta 0:00:01\r\u001b[K     |██████████████████████████████▍ | 870 kB 5.3 MB/s eta 0:00:01\r\u001b[K     |██████████████████████████████▊ | 880 kB 5.3 MB/s eta 0:00:01\r\u001b[K     |███████████████████████████████ | 890 kB 5.3 MB/s eta 0:00:01\r\u001b[K     |███████████████████████████████▌| 901 kB 5.3 MB/s eta 0:00:01\r\u001b[K     |███████████████████████████████▉| 911 kB 5.3 MB/s eta 0:00:01\r\u001b[K     |████████████████████████████████| 916 kB 5.3 MB/s \n",
            "\u001b[?25hCollecting pyDeprecate==0.3.1\n",
            "  Downloading pyDeprecate-0.3.1-py3-none-any.whl (10 kB)\n",
            "Requirement already satisfied: packaging>=17.0 in /usr/local/lib/python3.7/dist-packages (from pytorch-lightning) (21.0)\n",
            "Requirement already satisfied: tqdm>=4.41.0 in /usr/local/lib/python3.7/dist-packages (from pytorch-lightning) (4.62.0)\n",
            "Requirement already satisfied: tensorboard>=2.2.0 in /usr/local/lib/python3.7/dist-packages (from pytorch-lightning) (2.6.0)\n",
            "Requirement already satisfied: typing-extensions in /usr/local/lib/python3.7/dist-packages (from pytorch-lightning) (3.7.4.3)\n",
            "Requirement already satisfied: numpy>=1.17.2 in /usr/local/lib/python3.7/dist-packages (from pytorch-lightning) (1.19.5)\n",
            "Collecting PyYAML>=5.1\n",
            "  Downloading PyYAML-5.4.1-cp37-cp37m-manylinux1_x86_64.whl (636 kB)\n",
            "\u001b[K     |████████████████████████████████| 636 kB 39.6 MB/s \n",
            "\u001b[?25hCollecting fsspec[http]!=2021.06.0,>=2021.05.0\n",
            "  Downloading fsspec-2021.7.0-py3-none-any.whl (118 kB)\n",
            "\u001b[K     |████████████████████████████████| 118 kB 50.7 MB/s \n",
            "\u001b[?25hCollecting torchmetrics>=0.4.0\n",
            "  Downloading torchmetrics-0.5.0-py3-none-any.whl (272 kB)\n",
            "\u001b[K     |████████████████████████████████| 272 kB 52.5 MB/s \n",
            "\u001b[?25hCollecting future>=0.17.1\n",
            "  Downloading future-0.18.2.tar.gz (829 kB)\n",
            "\u001b[K     |████████████████████████████████| 829 kB 30.3 MB/s \n",
            "\u001b[?25hRequirement already satisfied: torch>=1.6 in /usr/local/lib/python3.7/dist-packages (from pytorch-lightning) (1.9.0+cu102)\n",
            "Requirement already satisfied: requests in /usr/local/lib/python3.7/dist-packages (from fsspec[http]!=2021.06.0,>=2021.05.0->pytorch-lightning) (2.23.0)\n",
            "Collecting aiohttp\n",
            "  Downloading aiohttp-3.7.4.post0-cp37-cp37m-manylinux2014_x86_64.whl (1.3 MB)\n",
            "\u001b[K     |████████████████████████████████| 1.3 MB 32.9 MB/s \n",
            "\u001b[?25hRequirement already satisfied: pyparsing>=2.0.2 in /usr/local/lib/python3.7/dist-packages (from packaging>=17.0->pytorch-lightning) (2.4.7)\n",
            "Requirement already satisfied: absl-py>=0.4 in /usr/local/lib/python3.7/dist-packages (from tensorboard>=2.2.0->pytorch-lightning) (0.12.0)\n",
            "Requirement already satisfied: wheel>=0.26 in /usr/local/lib/python3.7/dist-packages (from tensorboard>=2.2.0->pytorch-lightning) (0.37.0)\n",
            "Requirement already satisfied: google-auth-oauthlib<0.5,>=0.4.1 in /usr/local/lib/python3.7/dist-packages (from tensorboard>=2.2.0->pytorch-lightning) (0.4.5)\n",
            "Requirement already satisfied: protobuf>=3.6.0 in /usr/local/lib/python3.7/dist-packages (from tensorboard>=2.2.0->pytorch-lightning) (3.17.3)\n",
            "Requirement already satisfied: werkzeug>=0.11.15 in /usr/local/lib/python3.7/dist-packages (from tensorboard>=2.2.0->pytorch-lightning) (1.0.1)\n",
            "Requirement already satisfied: grpcio>=1.24.3 in /usr/local/lib/python3.7/dist-packages (from tensorboard>=2.2.0->pytorch-lightning) (1.39.0)\n",
            "Requirement already satisfied: markdown>=2.6.8 in /usr/local/lib/python3.7/dist-packages (from tensorboard>=2.2.0->pytorch-lightning) (3.3.4)\n",
            "Requirement already satisfied: google-auth<2,>=1.6.3 in /usr/local/lib/python3.7/dist-packages (from tensorboard>=2.2.0->pytorch-lightning) (1.34.0)\n",
            "Requirement already satisfied: tensorboard-data-server<0.7.0,>=0.6.0 in /usr/local/lib/python3.7/dist-packages (from tensorboard>=2.2.0->pytorch-lightning) (0.6.1)\n",
            "Requirement already satisfied: setuptools>=41.0.0 in /usr/local/lib/python3.7/dist-packages (from tensorboard>=2.2.0->pytorch-lightning) (57.4.0)\n",
            "Requirement already satisfied: tensorboard-plugin-wit>=1.6.0 in /usr/local/lib/python3.7/dist-packages (from tensorboard>=2.2.0->pytorch-lightning) (1.8.0)\n",
            "Requirement already satisfied: six in /usr/local/lib/python3.7/dist-packages (from absl-py>=0.4->tensorboard>=2.2.0->pytorch-lightning) (1.15.0)\n",
            "Requirement already satisfied: rsa<5,>=3.1.4 in /usr/local/lib/python3.7/dist-packages (from google-auth<2,>=1.6.3->tensorboard>=2.2.0->pytorch-lightning) (4.7.2)\n",
            "Requirement already satisfied: cachetools<5.0,>=2.0.0 in /usr/local/lib/python3.7/dist-packages (from google-auth<2,>=1.6.3->tensorboard>=2.2.0->pytorch-lightning) (4.2.2)\n",
            "Requirement already satisfied: pyasn1-modules>=0.2.1 in /usr/local/lib/python3.7/dist-packages (from google-auth<2,>=1.6.3->tensorboard>=2.2.0->pytorch-lightning) (0.2.8)\n",
            "Requirement already satisfied: requests-oauthlib>=0.7.0 in /usr/local/lib/python3.7/dist-packages (from google-auth-oauthlib<0.5,>=0.4.1->tensorboard>=2.2.0->pytorch-lightning) (1.3.0)\n",
            "Requirement already satisfied: importlib-metadata in /usr/local/lib/python3.7/dist-packages (from markdown>=2.6.8->tensorboard>=2.2.0->pytorch-lightning) (4.6.4)\n",
            "Requirement already satisfied: pyasn1<0.5.0,>=0.4.6 in /usr/local/lib/python3.7/dist-packages (from pyasn1-modules>=0.2.1->google-auth<2,>=1.6.3->tensorboard>=2.2.0->pytorch-lightning) (0.4.8)\n",
            "Requirement already satisfied: urllib3!=1.25.0,!=1.25.1,<1.26,>=1.21.1 in /usr/local/lib/python3.7/dist-packages (from requests->fsspec[http]!=2021.06.0,>=2021.05.0->pytorch-lightning) (1.24.3)\n",
            "Requirement already satisfied: chardet<4,>=3.0.2 in /usr/local/lib/python3.7/dist-packages (from requests->fsspec[http]!=2021.06.0,>=2021.05.0->pytorch-lightning) (3.0.4)\n",
            "Requirement already satisfied: certifi>=2017.4.17 in /usr/local/lib/python3.7/dist-packages (from requests->fsspec[http]!=2021.06.0,>=2021.05.0->pytorch-lightning) (2021.5.30)\n",
            "Requirement already satisfied: idna<3,>=2.5 in /usr/local/lib/python3.7/dist-packages (from requests->fsspec[http]!=2021.06.0,>=2021.05.0->pytorch-lightning) (2.10)\n",
            "Requirement already satisfied: oauthlib>=3.0.0 in /usr/local/lib/python3.7/dist-packages (from requests-oauthlib>=0.7.0->google-auth-oauthlib<0.5,>=0.4.1->tensorboard>=2.2.0->pytorch-lightning) (3.1.1)\n",
            "Collecting yarl<2.0,>=1.0\n",
            "  Downloading yarl-1.6.3-cp37-cp37m-manylinux2014_x86_64.whl (294 kB)\n",
            "\u001b[K     |████████████████████████████████| 294 kB 59.9 MB/s \n",
            "\u001b[?25hCollecting multidict<7.0,>=4.5\n",
            "  Downloading multidict-5.1.0-cp37-cp37m-manylinux2014_x86_64.whl (142 kB)\n",
            "\u001b[K     |████████████████████████████████| 142 kB 54.2 MB/s \n",
            "\u001b[?25hRequirement already satisfied: attrs>=17.3.0 in /usr/local/lib/python3.7/dist-packages (from aiohttp->fsspec[http]!=2021.06.0,>=2021.05.0->pytorch-lightning) (21.2.0)\n",
            "Collecting async-timeout<4.0,>=3.0\n",
            "  Downloading async_timeout-3.0.1-py3-none-any.whl (8.2 kB)\n",
            "Requirement already satisfied: zipp>=0.5 in /usr/local/lib/python3.7/dist-packages (from importlib-metadata->markdown>=2.6.8->tensorboard>=2.2.0->pytorch-lightning) (3.5.0)\n",
            "Building wheels for collected packages: future\n",
            "  Building wheel for future (setup.py) ... \u001b[?25l\u001b[?25hdone\n",
            "  Created wheel for future: filename=future-0.18.2-py3-none-any.whl size=491070 sha256=76afcadb3d8571a76cb086450fa6e15a0dc12095edd244daf01aade7c59129b9\n",
            "  Stored in directory: /root/.cache/pip/wheels/56/b0/fe/4410d17b32f1f0c3cf54cdfb2bc04d7b4b8f4ae377e2229ba0\n",
            "Successfully built future\n",
            "Installing collected packages: multidict, yarl, async-timeout, fsspec, aiohttp, torchmetrics, PyYAML, pyDeprecate, future, pytorch-lightning\n",
            "  Attempting uninstall: PyYAML\n",
            "    Found existing installation: PyYAML 3.13\n",
            "    Uninstalling PyYAML-3.13:\n",
            "      Successfully uninstalled PyYAML-3.13\n",
            "  Attempting uninstall: future\n",
            "    Found existing installation: future 0.16.0\n",
            "    Uninstalling future-0.16.0:\n",
            "      Successfully uninstalled future-0.16.0\n",
            "Successfully installed PyYAML-5.4.1 aiohttp-3.7.4.post0 async-timeout-3.0.1 fsspec-2021.7.0 future-0.18.2 multidict-5.1.0 pyDeprecate-0.3.1 pytorch-lightning-1.4.2 torchmetrics-0.5.0 yarl-1.6.3\n"
          ],
          "name": "stdout"
        }
      ]
    },
    {
      "cell_type": "markdown",
      "metadata": {
        "id": "cUOqgSYWQLeK"
      },
      "source": [
        "# PyTorch Lightning"
      ]
    }
  ]
}